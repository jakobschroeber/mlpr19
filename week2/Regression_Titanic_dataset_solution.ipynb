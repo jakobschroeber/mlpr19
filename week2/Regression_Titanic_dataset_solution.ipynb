{
  "nbformat": 4,
  "nbformat_minor": 0,
  "metadata": {
    "colab": {
      "name": "Regression_Titanic_dataset_solution",
      "version": "0.3.2",
      "provenance": [],
      "collapsed_sections": [],
      "include_colab_link": true
    },
    "kernelspec": {
      "name": "python3",
      "display_name": "Python 3"
    }
  },
  "cells": [
    {
      "cell_type": "markdown",
      "metadata": {
        "id": "view-in-github",
        "colab_type": "text"
      },
      "source": [
        "<a href=\"https://colab.research.google.com/github/MrtnMndt/mlpr19/blob/master/week2/Regression_Titanic_dataset_solution.ipynb\" target=\"_parent\"><img src=\"https://colab.research.google.com/assets/colab-badge.svg\" alt=\"Open In Colab\"/></a>"
      ]
    },
    {
      "cell_type": "markdown",
      "metadata": {
        "id": "k3fYh7yvuhzO",
        "colab_type": "text"
      },
      "source": [
        "# Regression and the Titanic dataset\n",
        "\n",
        "Welcome to this week's session where we will explore the Titanic dataset and apply what we have learned about linear and logistic regression and gradient descent methods. \n",
        "\n",
        "You can find the Titanic dataset and a corresponding tutorial challenge on Kaggle at https://www.kaggle.com/c/titanic "
      ]
    },
    {
      "cell_type": "code",
      "metadata": {
        "id": "ZwyLAjdFuXsc",
        "colab_type": "code",
        "outputId": "cf7b254e-03ad-40ac-90b4-ee93c5e66b81",
        "colab": {
          "base_uri": "https://localhost:8080/",
          "height": 377
        }
      },
      "source": [
        "!pip install seaborn --upgrade \n",
        "!pip install matplotlib --upgrade"
      ],
      "execution_count": 0,
      "outputs": [
        {
          "output_type": "stream",
          "text": [
            "Requirement already up-to-date: seaborn in /usr/local/lib/python3.6/dist-packages (0.9.0)\n",
            "Requirement already satisfied, skipping upgrade: scipy>=0.14.0 in /usr/local/lib/python3.6/dist-packages (from seaborn) (1.2.1)\n",
            "Requirement already satisfied, skipping upgrade: pandas>=0.15.2 in /usr/local/lib/python3.6/dist-packages (from seaborn) (0.24.2)\n",
            "Requirement already satisfied, skipping upgrade: matplotlib>=1.4.3 in /usr/local/lib/python3.6/dist-packages (from seaborn) (3.0.3)\n",
            "Requirement already satisfied, skipping upgrade: numpy>=1.9.3 in /usr/local/lib/python3.6/dist-packages (from seaborn) (1.16.3)\n",
            "Requirement already satisfied, skipping upgrade: python-dateutil>=2.5.0 in /usr/local/lib/python3.6/dist-packages (from pandas>=0.15.2->seaborn) (2.5.3)\n",
            "Requirement already satisfied, skipping upgrade: pytz>=2011k in /usr/local/lib/python3.6/dist-packages (from pandas>=0.15.2->seaborn) (2018.9)\n",
            "Requirement already satisfied, skipping upgrade: kiwisolver>=1.0.1 in /usr/local/lib/python3.6/dist-packages (from matplotlib>=1.4.3->seaborn) (1.0.1)\n",
            "Requirement already satisfied, skipping upgrade: pyparsing!=2.0.4,!=2.1.2,!=2.1.6,>=2.0.1 in /usr/local/lib/python3.6/dist-packages (from matplotlib>=1.4.3->seaborn) (2.4.0)\n",
            "Requirement already satisfied, skipping upgrade: cycler>=0.10 in /usr/local/lib/python3.6/dist-packages (from matplotlib>=1.4.3->seaborn) (0.10.0)\n",
            "Requirement already satisfied, skipping upgrade: six>=1.5 in /usr/local/lib/python3.6/dist-packages (from python-dateutil>=2.5.0->pandas>=0.15.2->seaborn) (1.12.0)\n",
            "Requirement already satisfied, skipping upgrade: setuptools in /usr/local/lib/python3.6/dist-packages (from kiwisolver>=1.0.1->matplotlib>=1.4.3->seaborn) (40.9.0)\n",
            "Requirement already up-to-date: matplotlib in /usr/local/lib/python3.6/dist-packages (3.0.3)\n",
            "Requirement already satisfied, skipping upgrade: python-dateutil>=2.1 in /usr/local/lib/python3.6/dist-packages (from matplotlib) (2.5.3)\n",
            "Requirement already satisfied, skipping upgrade: cycler>=0.10 in /usr/local/lib/python3.6/dist-packages (from matplotlib) (0.10.0)\n",
            "Requirement already satisfied, skipping upgrade: numpy>=1.10.0 in /usr/local/lib/python3.6/dist-packages (from matplotlib) (1.16.3)\n",
            "Requirement already satisfied, skipping upgrade: kiwisolver>=1.0.1 in /usr/local/lib/python3.6/dist-packages (from matplotlib) (1.0.1)\n",
            "Requirement already satisfied, skipping upgrade: pyparsing!=2.0.4,!=2.1.2,!=2.1.6,>=2.0.1 in /usr/local/lib/python3.6/dist-packages (from matplotlib) (2.4.0)\n",
            "Requirement already satisfied, skipping upgrade: six>=1.5 in /usr/local/lib/python3.6/dist-packages (from python-dateutil>=2.1->matplotlib) (1.12.0)\n",
            "Requirement already satisfied, skipping upgrade: setuptools in /usr/local/lib/python3.6/dist-packages (from kiwisolver>=1.0.1->matplotlib) (40.9.0)\n"
          ],
          "name": "stdout"
        }
      ]
    },
    {
      "cell_type": "markdown",
      "metadata": {
        "id": "XfenGnZLFMUG",
        "colab_type": "text"
      },
      "source": [
        "Let's first import the libraries we will need:"
      ]
    },
    {
      "cell_type": "code",
      "metadata": {
        "id": "Ftb-COR2ttbI",
        "colab_type": "code",
        "colab": {}
      },
      "source": [
        "import pandas as pd \n",
        "import matplotlib.pyplot as plt\n",
        "import seaborn as sns \n",
        "import numpy as np\n",
        "%matplotlib inline\n",
        "sns.set()"
      ],
      "execution_count": 0,
      "outputs": []
    },
    {
      "cell_type": "markdown",
      "metadata": {
        "id": "JlyClR1TFT6Y",
        "colab_type": "text"
      },
      "source": [
        "and load the dataset. Luckily the dataset is available through seaborns load_dataset function, but you can also find it on Kaggle.\n",
        "Let's print a summary of the dataset."
      ]
    },
    {
      "cell_type": "code",
      "metadata": {
        "id": "NPY-84n6vZIN",
        "colab_type": "code",
        "outputId": "af2ff69e-2ad6-49e0-e9e7-3ebd0e0fe378",
        "colab": {
          "base_uri": "https://localhost:8080/",
          "height": 527
        }
      },
      "source": [
        "titanic = sns.load_dataset(\"titanic\")\n",
        "print(titanic.info())\n",
        "print(titanic.describe())"
      ],
      "execution_count": 0,
      "outputs": [
        {
          "output_type": "stream",
          "text": [
            "<class 'pandas.core.frame.DataFrame'>\n",
            "RangeIndex: 891 entries, 0 to 890\n",
            "Data columns (total 15 columns):\n",
            "survived       891 non-null int64\n",
            "pclass         891 non-null int64\n",
            "sex            891 non-null object\n",
            "age            714 non-null float64\n",
            "sibsp          891 non-null int64\n",
            "parch          891 non-null int64\n",
            "fare           891 non-null float64\n",
            "embarked       889 non-null object\n",
            "class          891 non-null category\n",
            "who            891 non-null object\n",
            "adult_male     891 non-null bool\n",
            "deck           203 non-null category\n",
            "embark_town    889 non-null object\n",
            "alive          891 non-null object\n",
            "alone          891 non-null bool\n",
            "dtypes: bool(2), category(2), float64(2), int64(4), object(5)\n",
            "memory usage: 80.6+ KB\n",
            "None\n",
            "         survived      pclass         age       sibsp       parch        fare\n",
            "count  891.000000  891.000000  714.000000  891.000000  891.000000  891.000000\n",
            "mean     0.383838    2.308642   29.699118    0.523008    0.381594   32.204208\n",
            "std      0.486592    0.836071   14.526497    1.102743    0.806057   49.693429\n",
            "min      0.000000    1.000000    0.420000    0.000000    0.000000    0.000000\n",
            "25%      0.000000    2.000000   20.125000    0.000000    0.000000    7.910400\n",
            "50%      0.000000    3.000000   28.000000    0.000000    0.000000   14.454200\n",
            "75%      1.000000    3.000000   38.000000    1.000000    0.000000   31.000000\n",
            "max      1.000000    3.000000   80.000000    8.000000    6.000000  512.329200\n"
          ],
          "name": "stdout"
        }
      ]
    },
    {
      "cell_type": "markdown",
      "metadata": {
        "id": "ldMNQRXjF35c",
        "colab_type": "text"
      },
      "source": [
        "## Inspecting the Titanic dataset and preparing it for machine learning\n",
        "\n",
        "Before we continue with machine learning algorithms, let us take a closer look at the dataset and select suitable features for our regression. \n",
        "\n",
        "A good first step is to count the number of entries per feature. "
      ]
    },
    {
      "cell_type": "code",
      "metadata": {
        "id": "LPnYXtlbwbF-",
        "colab_type": "code",
        "outputId": "4eaa34ca-72e7-44d9-c68b-88502896a5ee",
        "colab": {
          "base_uri": "https://localhost:8080/",
          "height": 306
        }
      },
      "source": [
        "print(\"Total count per category\")\n",
        "print(titanic.count())"
      ],
      "execution_count": 0,
      "outputs": [
        {
          "output_type": "stream",
          "text": [
            "Total count per category\n",
            "survived       891\n",
            "pclass         891\n",
            "sex            891\n",
            "age            714\n",
            "sibsp          891\n",
            "parch          891\n",
            "fare           891\n",
            "embarked       889\n",
            "class          891\n",
            "who            891\n",
            "adult_male     891\n",
            "deck           203\n",
            "embark_town    889\n",
            "alive          891\n",
            "alone          891\n",
            "dtype: int64\n"
          ],
          "name": "stdout"
        }
      ]
    },
    {
      "cell_type": "markdown",
      "metadata": {
        "id": "M6fj51_HGScr",
        "colab_type": "text"
      },
      "source": [
        "We can observe that the passenger data has some **incomplete entries** and **some features are missing for certain passengers**. \n",
        "\n",
        "In addition some entries are lacking more than others. \n",
        "\n",
        "For the overall 891 passangers there is only 2 values missing for the catefories *embarked* and *embark_town*. In other words, we could easily adapt the dataset to include these two features by excluding these two passangers from our list of features. \n",
        "\n",
        "Other categories such as *age* and *deck* are much more difficult to leverage. We do not have any means to fill in the missing data and it is a bad idea to throw away the majority of our passenger data if we wanted to use the *deck* feature. The best idea is thus to not consider the *deck* feature in our further analysis.\n",
        "\n",
        "Let's drop the two passengers with missing *embarked* and *embark_town* entries:"
      ]
    },
    {
      "cell_type": "code",
      "metadata": {
        "id": "7SiXYrQcIkuI",
        "colab_type": "code",
        "outputId": "80c27e3a-7772-47c5-cf49-0e0eff5e8810",
        "colab": {
          "base_uri": "https://localhost:8080/",
          "height": 289
        }
      },
      "source": [
        "titanic = titanic.dropna(subset=[\"embarked\", \"embark_town\"])\n",
        "\n",
        "print(titanic.count())"
      ],
      "execution_count": 0,
      "outputs": [
        {
          "output_type": "stream",
          "text": [
            "survived       889\n",
            "pclass         889\n",
            "sex            889\n",
            "age            712\n",
            "sibsp          889\n",
            "parch          889\n",
            "fare           889\n",
            "embarked       889\n",
            "class          889\n",
            "who            889\n",
            "adult_male     889\n",
            "deck           201\n",
            "embark_town    889\n",
            "alive          889\n",
            "alone          889\n",
            "dtype: int64\n"
          ],
          "name": "stdout"
        }
      ]
    },
    {
      "cell_type": "markdown",
      "metadata": {
        "id": "pb8baVIvK2y7",
        "colab_type": "text"
      },
      "source": [
        "The next thing we observe is that some features we want to use do not have numerical values but are stored as strings. \n",
        "\n",
        "This is the case for the embarked feature that we have just cleaned where passengers are stored into three categories *C, Q, S* depending on whether they have embarked in one of three towns: C = Cherbourg, Q = Queenstown, S = Southampton.   "
      ]
    },
    {
      "cell_type": "code",
      "metadata": {
        "id": "uYz3V-kwKzFd",
        "colab_type": "code",
        "outputId": "fcd59fb8-3954-4769-fb42-f365f8431882",
        "colab": {
          "base_uri": "https://localhost:8080/",
          "height": 1071
        }
      },
      "source": [
        "print(titanic[\"embarked\"])"
      ],
      "execution_count": 0,
      "outputs": [
        {
          "output_type": "stream",
          "text": [
            "0      S\n",
            "1      C\n",
            "2      S\n",
            "3      S\n",
            "4      S\n",
            "5      Q\n",
            "6      S\n",
            "7      S\n",
            "8      S\n",
            "9      C\n",
            "10     S\n",
            "11     S\n",
            "12     S\n",
            "13     S\n",
            "14     S\n",
            "15     S\n",
            "16     Q\n",
            "17     S\n",
            "18     S\n",
            "19     C\n",
            "20     S\n",
            "21     S\n",
            "22     Q\n",
            "23     S\n",
            "24     S\n",
            "25     S\n",
            "26     C\n",
            "27     S\n",
            "28     Q\n",
            "29     S\n",
            "      ..\n",
            "861    S\n",
            "862    S\n",
            "863    S\n",
            "864    S\n",
            "865    S\n",
            "866    C\n",
            "867    S\n",
            "868    S\n",
            "869    S\n",
            "870    S\n",
            "871    S\n",
            "872    S\n",
            "873    S\n",
            "874    C\n",
            "875    C\n",
            "876    S\n",
            "877    S\n",
            "878    S\n",
            "879    C\n",
            "880    S\n",
            "881    S\n",
            "882    S\n",
            "883    S\n",
            "884    S\n",
            "885    Q\n",
            "886    S\n",
            "887    S\n",
            "888    S\n",
            "889    C\n",
            "890    Q\n",
            "Name: embarked, Length: 889, dtype: object\n"
          ],
          "name": "stdout"
        }
      ]
    },
    {
      "cell_type": "markdown",
      "metadata": {
        "id": "r9_qVxunLdwf",
        "colab_type": "text"
      },
      "source": [
        "What we often do in machine learning is that we can create a numerical **embedding** where we map the strings to numbers. In our case we can choose a quite simple one  and convert **C, Q, S into 0, 1, 2**.\n",
        "Luckily pandas offers a function for this named *replace({'string': num})*"
      ]
    },
    {
      "cell_type": "code",
      "metadata": {
        "id": "wST5AidoGN7V",
        "colab_type": "code",
        "outputId": "97f4bef3-42cb-4950-92c6-8cf98a3c00d0",
        "colab": {
          "base_uri": "https://localhost:8080/",
          "height": 2176
        }
      },
      "source": [
        "# check if already converted because the cell will otherwise\n",
        "# crash if executed multiple times\n",
        "if isinstance(titanic[\"embarked\"][0], str):\n",
        "    titanic[\"embarked\"] = titanic[\"embarked\"].replace({'C': 0, 'Q': 1, 'S': 2})\n",
        "print(titanic)"
      ],
      "execution_count": 0,
      "outputs": [
        {
          "output_type": "stream",
          "text": [
            "     survived  pclass     sex   age  sibsp  parch      fare  embarked   class  \\\n",
            "0           0       3    male  22.0      1      0    7.2500         2   Third   \n",
            "1           1       1  female  38.0      1      0   71.2833         0   First   \n",
            "2           1       3  female  26.0      0      0    7.9250         2   Third   \n",
            "3           1       1  female  35.0      1      0   53.1000         2   First   \n",
            "4           0       3    male  35.0      0      0    8.0500         2   Third   \n",
            "5           0       3    male   NaN      0      0    8.4583         1   Third   \n",
            "6           0       1    male  54.0      0      0   51.8625         2   First   \n",
            "7           0       3    male   2.0      3      1   21.0750         2   Third   \n",
            "8           1       3  female  27.0      0      2   11.1333         2   Third   \n",
            "9           1       2  female  14.0      1      0   30.0708         0  Second   \n",
            "10          1       3  female   4.0      1      1   16.7000         2   Third   \n",
            "11          1       1  female  58.0      0      0   26.5500         2   First   \n",
            "12          0       3    male  20.0      0      0    8.0500         2   Third   \n",
            "13          0       3    male  39.0      1      5   31.2750         2   Third   \n",
            "14          0       3  female  14.0      0      0    7.8542         2   Third   \n",
            "15          1       2  female  55.0      0      0   16.0000         2  Second   \n",
            "16          0       3    male   2.0      4      1   29.1250         1   Third   \n",
            "17          1       2    male   NaN      0      0   13.0000         2  Second   \n",
            "18          0       3  female  31.0      1      0   18.0000         2   Third   \n",
            "19          1       3  female   NaN      0      0    7.2250         0   Third   \n",
            "20          0       2    male  35.0      0      0   26.0000         2  Second   \n",
            "21          1       2    male  34.0      0      0   13.0000         2  Second   \n",
            "22          1       3  female  15.0      0      0    8.0292         1   Third   \n",
            "23          1       1    male  28.0      0      0   35.5000         2   First   \n",
            "24          0       3  female   8.0      3      1   21.0750         2   Third   \n",
            "25          1       3  female  38.0      1      5   31.3875         2   Third   \n",
            "26          0       3    male   NaN      0      0    7.2250         0   Third   \n",
            "27          0       1    male  19.0      3      2  263.0000         2   First   \n",
            "28          1       3  female   NaN      0      0    7.8792         1   Third   \n",
            "29          0       3    male   NaN      0      0    7.8958         2   Third   \n",
            "..        ...     ...     ...   ...    ...    ...       ...       ...     ...   \n",
            "861         0       2    male  21.0      1      0   11.5000         2  Second   \n",
            "862         1       1  female  48.0      0      0   25.9292         2   First   \n",
            "863         0       3  female   NaN      8      2   69.5500         2   Third   \n",
            "864         0       2    male  24.0      0      0   13.0000         2  Second   \n",
            "865         1       2  female  42.0      0      0   13.0000         2  Second   \n",
            "866         1       2  female  27.0      1      0   13.8583         0  Second   \n",
            "867         0       1    male  31.0      0      0   50.4958         2   First   \n",
            "868         0       3    male   NaN      0      0    9.5000         2   Third   \n",
            "869         1       3    male   4.0      1      1   11.1333         2   Third   \n",
            "870         0       3    male  26.0      0      0    7.8958         2   Third   \n",
            "871         1       1  female  47.0      1      1   52.5542         2   First   \n",
            "872         0       1    male  33.0      0      0    5.0000         2   First   \n",
            "873         0       3    male  47.0      0      0    9.0000         2   Third   \n",
            "874         1       2  female  28.0      1      0   24.0000         0  Second   \n",
            "875         1       3  female  15.0      0      0    7.2250         0   Third   \n",
            "876         0       3    male  20.0      0      0    9.8458         2   Third   \n",
            "877         0       3    male  19.0      0      0    7.8958         2   Third   \n",
            "878         0       3    male   NaN      0      0    7.8958         2   Third   \n",
            "879         1       1  female  56.0      0      1   83.1583         0   First   \n",
            "880         1       2  female  25.0      0      1   26.0000         2  Second   \n",
            "881         0       3    male  33.0      0      0    7.8958         2   Third   \n",
            "882         0       3  female  22.0      0      0   10.5167         2   Third   \n",
            "883         0       2    male  28.0      0      0   10.5000         2  Second   \n",
            "884         0       3    male  25.0      0      0    7.0500         2   Third   \n",
            "885         0       3  female  39.0      0      5   29.1250         1   Third   \n",
            "886         0       2    male  27.0      0      0   13.0000         2  Second   \n",
            "887         1       1  female  19.0      0      0   30.0000         2   First   \n",
            "888         0       3  female   NaN      1      2   23.4500         2   Third   \n",
            "889         1       1    male  26.0      0      0   30.0000         0   First   \n",
            "890         0       3    male  32.0      0      0    7.7500         1   Third   \n",
            "\n",
            "       who  adult_male deck  embark_town alive  alone  \n",
            "0      man        True  NaN  Southampton    no  False  \n",
            "1    woman       False    C    Cherbourg   yes  False  \n",
            "2    woman       False  NaN  Southampton   yes   True  \n",
            "3    woman       False    C  Southampton   yes  False  \n",
            "4      man        True  NaN  Southampton    no   True  \n",
            "5      man        True  NaN   Queenstown    no   True  \n",
            "6      man        True    E  Southampton    no   True  \n",
            "7    child       False  NaN  Southampton    no  False  \n",
            "8    woman       False  NaN  Southampton   yes  False  \n",
            "9    child       False  NaN    Cherbourg   yes  False  \n",
            "10   child       False    G  Southampton   yes  False  \n",
            "11   woman       False    C  Southampton   yes   True  \n",
            "12     man        True  NaN  Southampton    no   True  \n",
            "13     man        True  NaN  Southampton    no  False  \n",
            "14   child       False  NaN  Southampton    no   True  \n",
            "15   woman       False  NaN  Southampton   yes   True  \n",
            "16   child       False  NaN   Queenstown    no  False  \n",
            "17     man        True  NaN  Southampton   yes   True  \n",
            "18   woman       False  NaN  Southampton    no  False  \n",
            "19   woman       False  NaN    Cherbourg   yes   True  \n",
            "20     man        True  NaN  Southampton    no   True  \n",
            "21     man        True    D  Southampton   yes   True  \n",
            "22   child       False  NaN   Queenstown   yes   True  \n",
            "23     man        True    A  Southampton   yes   True  \n",
            "24   child       False  NaN  Southampton    no  False  \n",
            "25   woman       False  NaN  Southampton   yes  False  \n",
            "26     man        True  NaN    Cherbourg    no   True  \n",
            "27     man        True    C  Southampton    no  False  \n",
            "28   woman       False  NaN   Queenstown   yes   True  \n",
            "29     man        True  NaN  Southampton    no   True  \n",
            "..     ...         ...  ...          ...   ...    ...  \n",
            "861    man        True  NaN  Southampton    no  False  \n",
            "862  woman       False    D  Southampton   yes   True  \n",
            "863  woman       False  NaN  Southampton    no  False  \n",
            "864    man        True  NaN  Southampton    no   True  \n",
            "865  woman       False  NaN  Southampton   yes   True  \n",
            "866  woman       False  NaN    Cherbourg   yes  False  \n",
            "867    man        True    A  Southampton    no   True  \n",
            "868    man        True  NaN  Southampton    no   True  \n",
            "869  child       False  NaN  Southampton   yes  False  \n",
            "870    man        True  NaN  Southampton    no   True  \n",
            "871  woman       False    D  Southampton   yes  False  \n",
            "872    man        True    B  Southampton    no   True  \n",
            "873    man        True  NaN  Southampton    no   True  \n",
            "874  woman       False  NaN    Cherbourg   yes  False  \n",
            "875  child       False  NaN    Cherbourg   yes   True  \n",
            "876    man        True  NaN  Southampton    no   True  \n",
            "877    man        True  NaN  Southampton    no   True  \n",
            "878    man        True  NaN  Southampton    no   True  \n",
            "879  woman       False    C    Cherbourg   yes  False  \n",
            "880  woman       False  NaN  Southampton   yes  False  \n",
            "881    man        True  NaN  Southampton    no   True  \n",
            "882  woman       False  NaN  Southampton    no   True  \n",
            "883    man        True  NaN  Southampton    no   True  \n",
            "884    man        True  NaN  Southampton    no   True  \n",
            "885  woman       False  NaN   Queenstown    no  False  \n",
            "886    man        True  NaN  Southampton    no   True  \n",
            "887  woman       False    B  Southampton   yes   True  \n",
            "888  woman       False  NaN  Southampton    no  False  \n",
            "889    man        True    C    Cherbourg   yes   True  \n",
            "890    man        True  NaN   Queenstown    no   True  \n",
            "\n",
            "[889 rows x 15 columns]\n"
          ],
          "name": "stdout"
        }
      ]
    },
    {
      "cell_type": "markdown",
      "metadata": {
        "id": "AhQHVVcZtVsI",
        "colab_type": "text"
      },
      "source": [
        "We can also notice that some features exist multiple times in the data frame in multiple repsentations such as *pclass* and *class*, once being encoded numerically and with a string. We will simply select only one of these categories later for our final dataset. \n",
        "\n",
        "Let's visuallize  some of the features:"
      ]
    },
    {
      "cell_type": "code",
      "metadata": {
        "id": "rpn2AHlxtNBZ",
        "colab_type": "code",
        "outputId": "cbe3788d-4620-4d6d-c0ba-eb5df8411513",
        "colab": {
          "base_uri": "https://localhost:8080/",
          "height": 629
        }
      },
      "source": [
        "print(\"\\n Female only count\")\n",
        "print(titanic[titanic['sex'].str.match('female')].count())\n",
        "\n",
        "print(\"\\n Male only count\")\n",
        "print(titanic[titanic['sex'].str.match('male')].count())"
      ],
      "execution_count": 0,
      "outputs": [
        {
          "output_type": "stream",
          "text": [
            "\n",
            " Female only count\n",
            "survived       312\n",
            "pclass         312\n",
            "sex            312\n",
            "age            259\n",
            "sibsp          312\n",
            "parch          312\n",
            "fare           312\n",
            "embarked       312\n",
            "class          312\n",
            "who            312\n",
            "adult_male     312\n",
            "deck            95\n",
            "embark_town    312\n",
            "alive          312\n",
            "alone          312\n",
            "dtype: int64\n",
            "\n",
            " Male only count\n",
            "survived       577\n",
            "pclass         577\n",
            "sex            577\n",
            "age            453\n",
            "sibsp          577\n",
            "parch          577\n",
            "fare           577\n",
            "embarked       577\n",
            "class          577\n",
            "who            577\n",
            "adult_male     577\n",
            "deck           106\n",
            "embark_town    577\n",
            "alive          577\n",
            "alone          577\n",
            "dtype: int64\n"
          ],
          "name": "stdout"
        }
      ]
    },
    {
      "cell_type": "markdown",
      "metadata": {
        "id": "yVmd3MNJugLp",
        "colab_type": "text"
      },
      "source": [
        "We can see that there was almost twice as many males as females on the titanic. \n",
        "\n",
        "If we take a look at the age distribution in a box plot with depicted mean and variances, we can see that age is almost evenly distributed, with some outliers in males aged older than 70. "
      ]
    },
    {
      "cell_type": "code",
      "metadata": {
        "id": "QKHqF3rUxYt1",
        "colab_type": "code",
        "outputId": "8446a8a6-7518-4947-c088-4f6b8d56e262",
        "colab": {
          "base_uri": "https://localhost:8080/",
          "height": 308
        }
      },
      "source": [
        "plt.figure()\n",
        "sns.boxplot(x='sex', y='age', data=titanic)"
      ],
      "execution_count": 0,
      "outputs": [
        {
          "output_type": "execute_result",
          "data": {
            "text/plain": [
              "<matplotlib.axes._subplots.AxesSubplot at 0x7f5c51a43da0>"
            ]
          },
          "metadata": {
            "tags": []
          },
          "execution_count": 9
        },
        {
          "output_type": "display_data",
          "data": {
            "image/png": "[encoded data removed]",
            "text/plain": [
              "<Figure size 432x288 with 1 Axes>"
            ]
          },
          "metadata": {
            "tags": []
          }
        }
      ]
    },
    {
      "cell_type": "markdown",
      "metadata": {
        "id": "8WYfMSNtvELn",
        "colab_type": "text"
      },
      "source": [
        "Let's proceed with taking a visual look at survival rates. Intuitively a good feature for survival rate would be the gender and class of a passenger.\n",
        "\n",
        "We can display both in a histogram. "
      ]
    },
    {
      "cell_type": "code",
      "metadata": {
        "id": "JVXaakWLur0n",
        "colab_type": "code",
        "outputId": "d33ab4aa-8992-4eac-e9a4-4f9a1492ffe3",
        "colab": {
          "base_uri": "https://localhost:8080/",
          "height": 582
        }
      },
      "source": [
        "plt.figure()\n",
        "sns.countplot(x='survived', hue='class', data=titanic)\n",
        "\n",
        "plt.figure()\n",
        "sns.countplot(x='survived', hue='who', data=titanic)"
      ],
      "execution_count": 0,
      "outputs": [
        {
          "output_type": "execute_result",
          "data": {
            "text/plain": [
              "<matplotlib.axes._subplots.AxesSubplot at 0x7f5c39e73f60>"
            ]
          },
          "metadata": {
            "tags": []
          },
          "execution_count": 10
        },
        {
          "output_type": "display_data",
          "data": {
            "image/png": "[encoded data removed]",
            "text/plain": [
              "<Figure size 432x288 with 1 Axes>"
            ]
          },
          "metadata": {
            "tags": []
          }
        },
        {
          "output_type": "display_data",
          "data": {
            "image/png": "[encoded data removed]",
            "text/plain": [
              "<Figure size 432x288 with 1 Axes>"
            ]
          },
          "metadata": {
            "tags": []
          }
        }
      ]
    },
    {
      "cell_type": "markdown",
      "metadata": {
        "id": "kLhiWnirwE4R",
        "colab_type": "text"
      },
      "source": [
        "We could already build our first hand-engineered simple classifier. From the figures we can observe that survival is very much related to being a female first class passenger.  To provide a better overview we will do this later and compare it with our logistic regression results. \n",
        "\n",
        "We are now ready to build our dataset with our selected features and write the code for the logistic regression itself. As a first subset we will select the features *sex, fare, parch, pclass and sibsp (number of siblings or spouses)*. For this we will do a final conversion of the *sex* column and drop one entry as each passenger has an entry for both female and male that are mutually exclusive (0, 1 or 1, 0). We can thus just drop one of the entries entirely.\n",
        "\n",
        "It's easiest if we concatenate (with *pd.concat*) the selected features into a new pandas data frame and then convert them to numpy matrices. The latter can be achieved by using the *pd.DataFrame.to_numpy(data_frame)* function. \n",
        "\n",
        "In order to have a format that is suitable for logistic regression we will also split the labels, in the titanic scenario the *survived* column, into a separate numpy array. "
      ]
    },
    {
      "cell_type": "code",
      "metadata": {
        "id": "hnPA5V4D4u4P",
        "colab_type": "code",
        "outputId": "d83b8381-3cb5-47f5-c3fb-760c0025beae",
        "colab": {
          "base_uri": "https://localhost:8080/",
          "height": 1105
        }
      },
      "source": [
        "sex = pd.get_dummies(titanic[\"sex\"], drop_first=True)\n",
        "fare = titanic[\"fare\"]\n",
        "parch = titanic[\"parch\"]\n",
        "pclass = titanic[\"pclass\"]\n",
        "sibsp = titanic[\"sibsp\"]\n",
        "\n",
        "features = pd.concat([sex, fare, parch, pclass, sibsp], axis=1)\n",
        "print(features)\n",
        "\n",
        "x = pd.DataFrame.to_numpy(features)\n",
        "y = pd.DataFrame.to_numpy(titanic[\"survived\"])"
      ],
      "execution_count": 0,
      "outputs": [
        {
          "output_type": "stream",
          "text": [
            "     male      fare  parch  pclass  sibsp\n",
            "0       1    7.2500      0       3      1\n",
            "1       0   71.2833      0       1      1\n",
            "2       0    7.9250      0       3      0\n",
            "3       0   53.1000      0       1      1\n",
            "4       1    8.0500      0       3      0\n",
            "5       1    8.4583      0       3      0\n",
            "6       1   51.8625      0       1      0\n",
            "7       1   21.0750      1       3      3\n",
            "8       0   11.1333      2       3      0\n",
            "9       0   30.0708      0       2      1\n",
            "10      0   16.7000      1       3      1\n",
            "11      0   26.5500      0       1      0\n",
            "12      1    8.0500      0       3      0\n",
            "13      1   31.2750      5       3      1\n",
            "14      0    7.8542      0       3      0\n",
            "15      0   16.0000      0       2      0\n",
            "16      1   29.1250      1       3      4\n",
            "17      1   13.0000      0       2      0\n",
            "18      0   18.0000      0       3      1\n",
            "19      0    7.2250      0       3      0\n",
            "20      1   26.0000      0       2      0\n",
            "21      1   13.0000      0       2      0\n",
            "22      0    8.0292      0       3      0\n",
            "23      1   35.5000      0       1      0\n",
            "24      0   21.0750      1       3      3\n",
            "25      0   31.3875      5       3      1\n",
            "26      1    7.2250      0       3      0\n",
            "27      1  263.0000      2       1      3\n",
            "28      0    7.8792      0       3      0\n",
            "29      1    7.8958      0       3      0\n",
            "..    ...       ...    ...     ...    ...\n",
            "861     1   11.5000      0       2      1\n",
            "862     0   25.9292      0       1      0\n",
            "863     0   69.5500      2       3      8\n",
            "864     1   13.0000      0       2      0\n",
            "865     0   13.0000      0       2      0\n",
            "866     0   13.8583      0       2      1\n",
            "867     1   50.4958      0       1      0\n",
            "868     1    9.5000      0       3      0\n",
            "869     1   11.1333      1       3      1\n",
            "870     1    7.8958      0       3      0\n",
            "871     0   52.5542      1       1      1\n",
            "872     1    5.0000      0       1      0\n",
            "873     1    9.0000      0       3      0\n",
            "874     0   24.0000      0       2      1\n",
            "875     0    7.2250      0       3      0\n",
            "876     1    9.8458      0       3      0\n",
            "877     1    7.8958      0       3      0\n",
            "878     1    7.8958      0       3      0\n",
            "879     0   83.1583      1       1      0\n",
            "880     0   26.0000      1       2      0\n",
            "881     1    7.8958      0       3      0\n",
            "882     0   10.5167      0       3      0\n",
            "883     1   10.5000      0       2      0\n",
            "884     1    7.0500      0       3      0\n",
            "885     0   29.1250      5       3      0\n",
            "886     1   13.0000      0       2      0\n",
            "887     0   30.0000      0       1      0\n",
            "888     0   23.4500      2       3      1\n",
            "889     1   30.0000      0       1      0\n",
            "890     1    7.7500      0       3      0\n",
            "\n",
            "[889 rows x 5 columns]\n"
          ],
          "name": "stdout"
        }
      ]
    },
    {
      "cell_type": "markdown",
      "metadata": {
        "id": "-aPPU6-lyY_i",
        "colab_type": "text"
      },
      "source": [
        "## Creation of training and test data splits\n",
        "The numpy matrices we have just created still lack multiple steps before we can treat them as datasets for logistic regression.\n",
        "    1. The passanger entries are sorted. This can be problematic if we use stochastic gradient descent methods as some features will be fed first. \n",
        "    2. We do not have a train and test split. Creation of this split is crucial as it gives us means to estimate whether our trained model can extrapolate to \"unseen\" data from the same data distribution, how much it generalizes and how much the model overfits, i.e. \"learns by heart\". \n",
        "    \n",
        "Let's create a held-out test set by first shuffling the dataset and then extracting 20% of the data. \n",
        "\n",
        "We will also have to reshape the labels from vectors to matrices because of shape expectations of numpy's internal matrix multiplication."
      ]
    },
    {
      "cell_type": "code",
      "metadata": {
        "id": "z1pNmhO46ybH",
        "colab_type": "code",
        "outputId": "91aeea4e-bfa6-4e03-f033-dd0e5b891d67",
        "colab": {
          "base_uri": "https://localhost:8080/",
          "height": 51
        }
      },
      "source": [
        "perm = np.random.permutation(len(x))\n",
        "\n",
        "split = 0.8\n",
        "\n",
        "x_train, x_test = x[perm[:int(split*len(x))]], x[perm[int(split*len(x)):]]\n",
        "y_train, y_test = y[perm[:int(split*len(y))]], y[perm[int(split*len(y)):]]\n",
        "\n",
        "print(x_train.shape, x_test.shape, y_train.shape, y_test.shape)\n",
        "\n",
        "y_train = y_train.reshape(-1, 1)\n",
        "y_test = y_test.reshape(-1, 1)\n",
        "\n",
        "print(y_train.shape, y_test.shape)"
      ],
      "execution_count": 0,
      "outputs": [
        {
          "output_type": "stream",
          "text": [
            "(711, 5) (178, 5) (711,) (178,)\n",
            "(711, 1) (178, 1)\n"
          ],
          "name": "stdout"
        }
      ]
    },
    {
      "cell_type": "markdown",
      "metadata": {
        "id": "Jrr2Tptqzcuf",
        "colab_type": "text"
      },
      "source": [
        "## Logistic regression\n",
        "\n",
        "We are ready for the final step. We will now need to implement the missing functionality for the logistic regression itself: \n",
        "    1. The sigmoid function\n",
        "    2. The cross-entropy loss function\n",
        "    3. The gradient update rule\n",
        "    4. The training loop\n",
        "    5. A function to test accuracy on the dataset splits"
      ]
    },
    {
      "cell_type": "code",
      "metadata": {
        "id": "tQGsBWmz0h5i",
        "colab_type": "code",
        "colab": {}
      },
      "source": [
        "def sigmoid(z):\n",
        "    \"\"\"\n",
        "    Compute the Sigmoid function\n",
        "    \n",
        "    Parameters:\n",
        "        z (float, np.array): scalar value or numpy array\n",
        "        \n",
        "    Returns:\n",
        "        float, np.array: sigmoid(x)\n",
        "    \"\"\"\n",
        "    \n",
        "    sig = 1.0 / (1.0 + np.exp(-1.0 * z))\n",
        "    return sig"
      ],
      "execution_count": 0,
      "outputs": []
    },
    {
      "cell_type": "code",
      "metadata": {
        "id": "xbIRAcZS9vI9",
        "colab_type": "code",
        "colab": {}
      },
      "source": [
        "def log_loss(y, y_hat):\n",
        "    \"\"\"\n",
        "    Cross-entropy loss function\n",
        "    \n",
        "    Parameters:\n",
        "        y (float, np.array): Labels or targets\n",
        "        y_hat (float, np.array): Predictions\n",
        "        \n",
        "    Returns:\n",
        "    float: log loss\n",
        "    \"\"\"\n",
        "    loss = -np.mean(y * np.log(y_hat) + (1-y) * np.log(1 - y_hat))\n",
        "    return loss"
      ],
      "execution_count": 0,
      "outputs": []
    },
    {
      "cell_type": "code",
      "metadata": {
        "id": "kHaWAfR7oHeZ",
        "colab_type": "code",
        "colab": {}
      },
      "source": [
        "def grad_update(grad, lr):\n",
        "    \"\"\"\n",
        "    Gradient descent update rule\n",
        "    \n",
        "    Parameters:\n",
        "        grad (float, np.array): Array of gradients for each weight\n",
        "        lr (float): learning rate\n",
        "    \"\"\"\n",
        "    return lr * grad"
      ],
      "execution_count": 0,
      "outputs": []
    },
    {
      "cell_type": "markdown",
      "metadata": {
        "id": "WE7Wpe-AzzSB",
        "colab_type": "text"
      },
      "source": [
        "We initialize the weights and bias to zero and set a number of epochs to train and a learning rate to use in the update. Good starting values can be 10000 epochs with a learning rate of 0.005. "
      ]
    },
    {
      "cell_type": "code",
      "metadata": {
        "id": "0Y9R2Ju4-uCK",
        "colab_type": "code",
        "outputId": "d57af845-d67f-41f9-f8fa-ae7ec5286f71",
        "colab": {
          "base_uri": "https://localhost:8080/",
          "height": 187
        }
      },
      "source": [
        "W = np.zeros((x.shape[1], 1))\n",
        "b = np.zeros((1, 1))\n",
        "\n",
        "num_epochs = 10000\n",
        "lr = 0.005\n",
        "\n",
        "losses = []\n",
        "\n",
        "for epoch in range(num_epochs):\n",
        "    z = (x_train @ W) + b\n",
        "    A = sigmoid(z)\n",
        "    loss = log_loss(y_train, A)\n",
        "    losses.append(loss)\n",
        "    \n",
        "    dz = A - y_train\n",
        "    dW = (1/len(x_train)) * (x_train.T @ dz)\n",
        "    db = np.sum(dz)\n",
        "    \n",
        "    W = W - grad_update(dW, lr)\n",
        "    b = b - grad_update(db, lr)\n",
        "    \n",
        "    if epoch % 1000 == 0 and epoch > 0:\n",
        "        print(loss)"
      ],
      "execution_count": 0,
      "outputs": [
        {
          "output_type": "stream",
          "text": [
            "711\n",
            "0.581718249826437\n",
            "0.5407459061803038\n",
            "0.5144448731246541\n",
            "0.496956407508507\n",
            "0.4850186674247351\n",
            "0.4766768862361996\n",
            "0.4707238511310514\n",
            "0.4663948181703837\n",
            "0.4631933233659342\n"
          ],
          "name": "stdout"
        }
      ]
    },
    {
      "cell_type": "markdown",
      "metadata": {
        "id": "6LgAEtB40ELq",
        "colab_type": "text"
      },
      "source": [
        "We should have seen the loss decreasing over time. For the trained model we can now print the weights and bias values. Unfortunately because logistic regression weights aren't linearly, but multiplicatively combined, it is not straight forward to interpret these weights. \n",
        "\n",
        "Don't worry though, in the next weeks we will learn about interpretability and how to inspect models!"
      ]
    },
    {
      "cell_type": "code",
      "metadata": {
        "id": "0Wer70jfBaOs",
        "colab_type": "code",
        "outputId": "dd4d308e-d072-49d2-d95e-b6baabf26071",
        "colab": {
          "base_uri": "https://localhost:8080/",
          "height": 102
        }
      },
      "source": [
        "print(W, b)"
      ],
      "execution_count": 0,
      "outputs": [
        {
          "output_type": "stream",
          "text": [
            "[[-2.35932755e+00]\n",
            " [-1.63333894e-03]\n",
            " [-4.98312979e-02]\n",
            " [-8.37082324e-01]\n",
            " [-2.18306812e-01]] [[2.65367145]]\n"
          ],
          "name": "stdout"
        }
      ]
    },
    {
      "cell_type": "markdown",
      "metadata": {
        "id": "J68LhqB44_I0",
        "colab_type": "text"
      },
      "source": [
        "Let's visualize our losses. Because we have so many values, it is recommended to take every tenth value only."
      ]
    },
    {
      "cell_type": "code",
      "metadata": {
        "id": "WSbp4YHt4j3I",
        "colab_type": "code",
        "outputId": "8c4e4381-5e99-4a00-e909-19a39d82c274",
        "colab": {
          "base_uri": "https://localhost:8080/",
          "height": 291
        }
      },
      "source": [
        "plt.figure()\n",
        "plt.plot(losses[::10])"
      ],
      "execution_count": 0,
      "outputs": [
        {
          "output_type": "execute_result",
          "data": {
            "text/plain": [
              "[<matplotlib.lines.Line2D at 0x7f5c39e514e0>]"
            ]
          },
          "metadata": {
            "tags": []
          },
          "execution_count": 18
        },
        {
          "output_type": "display_data",
          "data": {
            "image/png": "[encoded data removed]",
            "text/plain": [
              "<Figure size 432x288 with 1 Axes>"
            ]
          },
          "metadata": {
            "tags": []
          }
        }
      ]
    },
    {
      "cell_type": "markdown",
      "metadata": {
        "id": "zwsTdvq60cex",
        "colab_type": "text"
      },
      "source": [
        "While looking at the losses can be meaningful, it doesn't really help our human interpretation of how well we can do on our task of predicting passenger survival. As our model is prediction survival score (like a probability in [0, 1] range.) we can binarize the prediction to yield *survived* if the output value is greater than 0.5. We can calculate this for the entire train and test dataset splits and see how well our model does in terms of accuracy. "
      ]
    },
    {
      "cell_type": "code",
      "metadata": {
        "id": "pXFh9E2VuDfG",
        "colab_type": "code",
        "colab": {}
      },
      "source": [
        "def eval_acc(x, y):\n",
        "    acc = 0.0\n",
        "    \n",
        "    for inp in range(len(x)):\n",
        "        z = (x[inp] @ W) + b\n",
        "        A = sigmoid(z)\n",
        "        \n",
        "        if (A > 0.5) == y[inp]:\n",
        "            acc += 1.0\n",
        "            \n",
        "    acc /= len(x)\n",
        "    return acc"
      ],
      "execution_count": 0,
      "outputs": []
    },
    {
      "cell_type": "code",
      "metadata": {
        "id": "DZ6fVk6jBr2M",
        "colab_type": "code",
        "outputId": "0eeddaf1-9afd-4590-9075-70de9e02b3b6",
        "colab": {
          "base_uri": "https://localhost:8080/",
          "height": 51
        }
      },
      "source": [
        "train_acc = eval_acc(x_train, y_train)\n",
        "test_acc = eval_acc(x_test, y_test)\n",
        "\n",
        "print(\"Training accuracy: \", train_acc)    \n",
        "print(\"Testing accuracy: \", test_acc)  "
      ],
      "execution_count": 0,
      "outputs": [
        {
          "output_type": "stream",
          "text": [
            "Training accuracy:  0.8045007032348804\n",
            "Testing accuracy:  0.8089887640449438\n"
          ],
          "name": "stdout"
        }
      ]
    },
    {
      "cell_type": "markdown",
      "metadata": {
        "id": "YrpCwOWD1Eey",
        "colab_type": "text"
      },
      "source": [
        "Depending on the exact random split and our gradient descent parameters we can observe training and testing accuracies greater than 80%. If the training accuracy is higher and the test accuracy is low this means that the model is overfitting. If neither of the two accuracies go beyond random chance of 50% (a coin-flip of whether a passenger survived or not) then the model has not trained or the gradient descent got stuck in a local minimum. \n",
        "\n",
        "To an extend we can avoid gradient descent (GD) getting stuck in bad local minima or saddle points by making it stochastic (SGD). In the lecture we have encountered a method called mini-batch stochastic gradient descent, that balances the advantages of SGD stochasticity and convergence of GD. \n",
        "\n",
        "Let's pick a starting batch size of 100 and see how the training behavior changes. Because we are now doing many more updates than before, it is generally a good idea to lower the learning rate a little or train for an overall lesser amount of epochs. We do not change the number of epochs here but instead halve the learning rate. "
      ]
    },
    {
      "cell_type": "code",
      "metadata": {
        "id": "EklL12ioFlml",
        "colab_type": "code",
        "outputId": "f45de035-97a0-452c-c224-fc59fa7c42c9",
        "colab": {
          "base_uri": "https://localhost:8080/",
          "height": 170
        }
      },
      "source": [
        "W = np.zeros((x.shape[1], 1))\n",
        "b = np.zeros((1, 1))\n",
        "             \n",
        "num_epochs = 10000\n",
        "lr = 0.0025\n",
        "mb_size = 100\n",
        "\n",
        "losses = []\n",
        "\n",
        "for epoch in range(num_epochs):\n",
        "    \n",
        "    perm = np.random.permutation(len(x_train))\n",
        "    x_train, y_train = x_train[perm], y_train[perm]\n",
        "    \n",
        "    # because we are shuffling the dataset at every point and we do not want\n",
        "    # updates on a tiny batch size we can neglect the last mini-batch that is \n",
        "    # smaller than our mini-batch nice. \n",
        "    for mb in range(int(len(x_train) / mb_size)):\n",
        "        inp = x_train[mb*mb_size:(mb+1)*mb_size]\n",
        "        target = y_train[mb*mb_size:(mb+1)*mb_size]\n",
        "    \n",
        "        z = (inp @ W) + b\n",
        "        A = sigmoid(z)\n",
        "        loss = log_loss(target, A)\n",
        "        losses.append(loss)\n",
        "    \n",
        "        dz = A - target\n",
        "        dW = (1/len(inp)) * (inp.T @ dz)\n",
        "        db = np.sum(dz)\n",
        "    \n",
        "        W = W - grad_update(dW, lr)\n",
        "        b = b - grad_update(db, lr)\n",
        "    \n",
        "    if epoch % 1000 == 0 and epoch > 0:\n",
        "        print(loss)"
      ],
      "execution_count": 0,
      "outputs": [
        {
          "output_type": "stream",
          "text": [
            "0.4766622654516657\n",
            "0.41143979450902\n",
            "0.4461193229554212\n",
            "0.5728233316602565\n",
            "0.5075131407192945\n",
            "0.45847439075249363\n",
            "0.4832390945635613\n",
            "0.5670263022404005\n",
            "0.44947312537132794\n"
          ],
          "name": "stdout"
        }
      ]
    },
    {
      "cell_type": "markdown",
      "metadata": {
        "id": "TLcSBOzx5M0p",
        "colab_type": "text"
      },
      "source": [
        "Let's again visualize the losses"
      ]
    },
    {
      "cell_type": "code",
      "metadata": {
        "id": "OwMFqWA05Q0j",
        "colab_type": "code",
        "outputId": "9ec4adcf-1adf-4215-e95b-14e0b443b7bb",
        "colab": {
          "base_uri": "https://localhost:8080/",
          "height": 291
        }
      },
      "source": [
        "plt.figure()\n",
        "plt.plot(losses[::10])"
      ],
      "execution_count": 0,
      "outputs": [
        {
          "output_type": "execute_result",
          "data": {
            "text/plain": [
              "[<matplotlib.lines.Line2D at 0x7f5c39bf4828>]"
            ]
          },
          "metadata": {
            "tags": []
          },
          "execution_count": 22
        },
        {
          "output_type": "display_data",
          "data": {
            "image/png": "[encoded data removed]",
            "text/plain": [
              "<Figure size 432x288 with 1 Axes>"
            ]
          },
          "metadata": {
            "tags": []
          }
        }
      ]
    },
    {
      "cell_type": "markdown",
      "metadata": {
        "id": "dRQWfpeZ2VK1",
        "colab_type": "text"
      },
      "source": [
        "In contrast to gradient descent, we observe that the loss no longer behaves deterministically. It is a lot more \"jumpy\". In fact, if we run the same code multiple times we will also achieve a different result each time. Similarly, the final accuracy we achieve now varies. If we set the parameters right, we can observe the loss initially declining much faster and the final accuracy can be slightly higher. "
      ]
    },
    {
      "cell_type": "code",
      "metadata": {
        "id": "CqjkHMa0O20p",
        "colab_type": "code",
        "outputId": "3d433449-b5c2-4fa3-d96b-670bd20aad67",
        "colab": {
          "base_uri": "https://localhost:8080/",
          "height": 51
        }
      },
      "source": [
        "train_acc = eval_acc(x_train, y_train)\n",
        "test_acc = eval_acc(x_test, y_test)\n",
        "\n",
        "print(\"Training accuracy: \", train_acc)    \n",
        "print(\"Testing accuracy: \", test_acc)  "
      ],
      "execution_count": 0,
      "outputs": [
        {
          "output_type": "stream",
          "text": [
            "Training accuracy:  0.790436005625879\n",
            "Testing accuracy:  0.7921348314606742\n"
          ],
          "name": "stdout"
        }
      ]
    },
    {
      "cell_type": "markdown",
      "metadata": {
        "id": "Y-GpnnDDI1l6",
        "colab_type": "text"
      },
      "source": [
        "## What now? \n",
        "\n",
        "What can we do now? In the next week we will learn about more expressive models like random forests and neural networks that achieve better accuracies and can fit more complex tasks with more than one label. \n",
        "For now here's a couple of suggestions what we can do immediately:\n",
        "\n",
        "\n",
        "    1. Run gradient descent multiple times in a row, do the same for stochastic gradient descent, what do you observe and why? \n",
        "    2. How does the model behave if we select a different smaller/large feature set? \n",
        "    3. We have learned about more advanced gradient descent techniques such as momentum or adaptive techniques such as Adam. Change the update function and observe what happens.\n",
        "    4. We have observed earlier that the sex and class feature seem to be highly correlated with survival rate. Can you build a simple classifier by hand, based on the assumption that high passenger class female passengers survive. How does it compare to the logistic regression you have trained?"
      ]
    }
  ]
}